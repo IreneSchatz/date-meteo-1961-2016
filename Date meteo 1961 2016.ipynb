{
 "cells": [
  {
   "cell_type": "code",
   "execution_count": 15,
   "id": "873b666d-3030-4cda-9626-fd446cd8d206",
   "metadata": {},
   "outputs": [],
   "source": [
    "import pandas as pd\n",
    "import numpy as np\n",
    "\n",
    "df_1961 = pd.read_csv('date_1961.csv', sep = ',')\n",
    "df_2016 = pd.read_csv('date_2016.csv', sep = ',')"
   ]
  },
  {
   "cell_type": "code",
   "execution_count": 17,
   "id": "40c3e2fe-df4f-44c8-b98c-63ed6acabbfa",
   "metadata": {},
   "outputs": [
    {
     "name": "stdout",
     "output_type": "stream",
     "text": [
      "<class 'pandas.core.frame.DataFrame'>\n",
      "RangeIndex: 8030 entries, 0 to 8029\n",
      "Data columns (total 8 columns):\n",
      " #   Column   Non-Null Count  Dtype  \n",
      "---  ------   --------------  -----  \n",
      " 0   CODST    8030 non-null   int64  \n",
      " 1   ALT      8030 non-null   float64\n",
      " 2   LAT      8030 non-null   float64\n",
      " 3   LON      8030 non-null   float64\n",
      " 4   DATCLIM  8030 non-null   object \n",
      " 5   TMED     8030 non-null   float64\n",
      " 6   TMAX     8030 non-null   float64\n",
      " 7   TMIN     8030 non-null   float64\n",
      "dtypes: float64(6), int64(1), object(1)\n",
      "memory usage: 502.0+ KB\n"
     ]
    }
   ],
   "source": [
    "df_1961.info()"
   ]
  },
  {
   "cell_type": "code",
   "execution_count": 19,
   "id": "5f282408-4436-4979-a12e-8f910ba06d0d",
   "metadata": {},
   "outputs": [
    {
     "name": "stdout",
     "output_type": "stream",
     "text": [
      "<class 'pandas.core.frame.DataFrame'>\n",
      "RangeIndex: 8418 entries, 0 to 8417\n",
      "Data columns (total 8 columns):\n",
      " #   Column   Non-Null Count  Dtype  \n",
      "---  ------   --------------  -----  \n",
      " 0   CODST    8418 non-null   int64  \n",
      " 1   ALT      8418 non-null   float64\n",
      " 2   LAT      8418 non-null   float64\n",
      " 3   LON      8418 non-null   float64\n",
      " 4   DATCLIM  8418 non-null   object \n",
      " 5   TMED     8418 non-null   float64\n",
      " 6   TMAX     8418 non-null   float64\n",
      " 7   TMIN     8418 non-null   float64\n",
      "dtypes: float64(6), int64(1), object(1)\n",
      "memory usage: 526.3+ KB\n"
     ]
    }
   ],
   "source": [
    "df_2016.info()"
   ]
  },
  {
   "cell_type": "code",
   "execution_count": 21,
   "id": "eba88a9e-04f4-4522-8f31-e78d9d1e935e",
   "metadata": {},
   "outputs": [
    {
     "data": {
      "text/plain": [
       "CODST      0\n",
       "ALT        0\n",
       "LAT        0\n",
       "LON        0\n",
       "DATCLIM    0\n",
       "TMED       0\n",
       "TMAX       0\n",
       "TMIN       0\n",
       "dtype: int64"
      ]
     },
     "execution_count": 21,
     "metadata": {},
     "output_type": "execute_result"
    }
   ],
   "source": [
    "df_1961.isnull().sum()"
   ]
  },
  {
   "cell_type": "code",
   "execution_count": 23,
   "id": "1c186689-0c18-4782-8d12-a93eaf4eb8d6",
   "metadata": {},
   "outputs": [
    {
     "data": {
      "text/plain": [
       "CODST      0\n",
       "ALT        0\n",
       "LAT        0\n",
       "LON        0\n",
       "DATCLIM    0\n",
       "TMED       0\n",
       "TMAX       0\n",
       "TMIN       0\n",
       "dtype: int64"
      ]
     },
     "execution_count": 23,
     "metadata": {},
     "output_type": "execute_result"
    }
   ],
   "source": [
    "df_2016.isnull().sum()"
   ]
  },
  {
   "cell_type": "code",
   "execution_count": 25,
   "id": "364e298e-85b5-455a-b579-f4b383617543",
   "metadata": {},
   "outputs": [],
   "source": [
    "#Combinarea celor 2 seturi de date\n",
    "\n",
    "#adaugare coloana noua cu anul inregistrarii\n",
    "df_1961['an inregistrare'] = 1961\n",
    "df_2016['an inregistrare'] = 2016\n",
    "\n",
    "#combinare date intr-un dataframe\n",
    "df_combined = pd.concat([df_1961, df_2016], ignore_index=True)"
   ]
  },
  {
   "cell_type": "code",
   "execution_count": 27,
   "id": "0e341f07-0754-4d0a-bc68-4957d25cb8b1",
   "metadata": {},
   "outputs": [
    {
     "data": {
      "text/html": [
       "<div>\n",
       "<style scoped>\n",
       "    .dataframe tbody tr th:only-of-type {\n",
       "        vertical-align: middle;\n",
       "    }\n",
       "\n",
       "    .dataframe tbody tr th {\n",
       "        vertical-align: top;\n",
       "    }\n",
       "\n",
       "    .dataframe thead th {\n",
       "        text-align: right;\n",
       "    }\n",
       "</style>\n",
       "<table border=\"1\" class=\"dataframe\">\n",
       "  <thead>\n",
       "    <tr style=\"text-align: right;\">\n",
       "      <th></th>\n",
       "      <th>CODST</th>\n",
       "      <th>ALT</th>\n",
       "      <th>LAT</th>\n",
       "      <th>LON</th>\n",
       "      <th>DATCLIM</th>\n",
       "      <th>TMED</th>\n",
       "      <th>TMAX</th>\n",
       "      <th>TMIN</th>\n",
       "      <th>an inregistrare</th>\n",
       "    </tr>\n",
       "  </thead>\n",
       "  <tbody>\n",
       "    <tr>\n",
       "      <th>0</th>\n",
       "      <td>15015</td>\n",
       "      <td>503.0</td>\n",
       "      <td>47.776944</td>\n",
       "      <td>23.940556</td>\n",
       "      <td>1/1/1961</td>\n",
       "      <td>-0.1</td>\n",
       "      <td>1.0</td>\n",
       "      <td>-1.3</td>\n",
       "      <td>1961</td>\n",
       "    </tr>\n",
       "    <tr>\n",
       "      <th>1</th>\n",
       "      <td>15015</td>\n",
       "      <td>503.0</td>\n",
       "      <td>47.776944</td>\n",
       "      <td>23.940556</td>\n",
       "      <td>1/2/1961</td>\n",
       "      <td>1.2</td>\n",
       "      <td>4.2</td>\n",
       "      <td>-1.3</td>\n",
       "      <td>1961</td>\n",
       "    </tr>\n",
       "    <tr>\n",
       "      <th>2</th>\n",
       "      <td>15015</td>\n",
       "      <td>503.0</td>\n",
       "      <td>47.776944</td>\n",
       "      <td>23.940556</td>\n",
       "      <td>1/3/1961</td>\n",
       "      <td>4.0</td>\n",
       "      <td>7.2</td>\n",
       "      <td>1.2</td>\n",
       "      <td>1961</td>\n",
       "    </tr>\n",
       "    <tr>\n",
       "      <th>3</th>\n",
       "      <td>15015</td>\n",
       "      <td>503.0</td>\n",
       "      <td>47.776944</td>\n",
       "      <td>23.940556</td>\n",
       "      <td>1/4/1961</td>\n",
       "      <td>6.0</td>\n",
       "      <td>12.4</td>\n",
       "      <td>0.6</td>\n",
       "      <td>1961</td>\n",
       "    </tr>\n",
       "    <tr>\n",
       "      <th>4</th>\n",
       "      <td>15015</td>\n",
       "      <td>503.0</td>\n",
       "      <td>47.776944</td>\n",
       "      <td>23.940556</td>\n",
       "      <td>1/5/1961</td>\n",
       "      <td>6.4</td>\n",
       "      <td>8.6</td>\n",
       "      <td>4.2</td>\n",
       "      <td>1961</td>\n",
       "    </tr>\n",
       "  </tbody>\n",
       "</table>\n",
       "</div>"
      ],
      "text/plain": [
       "   CODST    ALT        LAT        LON   DATCLIM  TMED  TMAX  TMIN  \\\n",
       "0  15015  503.0  47.776944  23.940556  1/1/1961  -0.1   1.0  -1.3   \n",
       "1  15015  503.0  47.776944  23.940556  1/2/1961   1.2   4.2  -1.3   \n",
       "2  15015  503.0  47.776944  23.940556  1/3/1961   4.0   7.2   1.2   \n",
       "3  15015  503.0  47.776944  23.940556  1/4/1961   6.0  12.4   0.6   \n",
       "4  15015  503.0  47.776944  23.940556  1/5/1961   6.4   8.6   4.2   \n",
       "\n",
       "   an inregistrare  \n",
       "0             1961  \n",
       "1             1961  \n",
       "2             1961  \n",
       "3             1961  \n",
       "4             1961  "
      ]
     },
     "execution_count": 27,
     "metadata": {},
     "output_type": "execute_result"
    }
   ],
   "source": [
    "df_combined.head()"
   ]
  },
  {
   "cell_type": "code",
   "execution_count": 29,
   "id": "b93dbe2f-0ae9-422a-97a6-f8f4fb7fe327",
   "metadata": {},
   "outputs": [
    {
     "data": {
      "text/html": [
       "<div>\n",
       "<style scoped>\n",
       "    .dataframe tbody tr th:only-of-type {\n",
       "        vertical-align: middle;\n",
       "    }\n",
       "\n",
       "    .dataframe tbody tr th {\n",
       "        vertical-align: top;\n",
       "    }\n",
       "\n",
       "    .dataframe thead th {\n",
       "        text-align: right;\n",
       "    }\n",
       "</style>\n",
       "<table border=\"1\" class=\"dataframe\">\n",
       "  <thead>\n",
       "    <tr style=\"text-align: right;\">\n",
       "      <th></th>\n",
       "      <th>CODST</th>\n",
       "      <th>ALT</th>\n",
       "      <th>LAT</th>\n",
       "      <th>LON</th>\n",
       "      <th>DATCLIM</th>\n",
       "      <th>TMED</th>\n",
       "      <th>TMAX</th>\n",
       "      <th>TMIN</th>\n",
       "      <th>an inregistrare</th>\n",
       "    </tr>\n",
       "  </thead>\n",
       "  <tbody>\n",
       "    <tr>\n",
       "      <th>16443</th>\n",
       "      <td>15480</td>\n",
       "      <td>12.8</td>\n",
       "      <td>44.213889</td>\n",
       "      <td>28.645556</td>\n",
       "      <td>12/27/2016</td>\n",
       "      <td>2.1</td>\n",
       "      <td>5.6</td>\n",
       "      <td>-0.6</td>\n",
       "      <td>2016</td>\n",
       "    </tr>\n",
       "    <tr>\n",
       "      <th>16444</th>\n",
       "      <td>15480</td>\n",
       "      <td>12.8</td>\n",
       "      <td>44.213889</td>\n",
       "      <td>28.645556</td>\n",
       "      <td>12/28/2016</td>\n",
       "      <td>0.7</td>\n",
       "      <td>2.1</td>\n",
       "      <td>-1.5</td>\n",
       "      <td>2016</td>\n",
       "    </tr>\n",
       "    <tr>\n",
       "      <th>16445</th>\n",
       "      <td>15480</td>\n",
       "      <td>12.8</td>\n",
       "      <td>44.213889</td>\n",
       "      <td>28.645556</td>\n",
       "      <td>12/29/2016</td>\n",
       "      <td>1.6</td>\n",
       "      <td>2.7</td>\n",
       "      <td>0.5</td>\n",
       "      <td>2016</td>\n",
       "    </tr>\n",
       "    <tr>\n",
       "      <th>16446</th>\n",
       "      <td>15480</td>\n",
       "      <td>12.8</td>\n",
       "      <td>44.213889</td>\n",
       "      <td>28.645556</td>\n",
       "      <td>12/30/2016</td>\n",
       "      <td>0.4</td>\n",
       "      <td>1.5</td>\n",
       "      <td>-0.5</td>\n",
       "      <td>2016</td>\n",
       "    </tr>\n",
       "    <tr>\n",
       "      <th>16447</th>\n",
       "      <td>15480</td>\n",
       "      <td>12.8</td>\n",
       "      <td>44.213889</td>\n",
       "      <td>28.645556</td>\n",
       "      <td>12/31/2016</td>\n",
       "      <td>-1.5</td>\n",
       "      <td>1.5</td>\n",
       "      <td>-2.8</td>\n",
       "      <td>2016</td>\n",
       "    </tr>\n",
       "  </tbody>\n",
       "</table>\n",
       "</div>"
      ],
      "text/plain": [
       "       CODST   ALT        LAT        LON     DATCLIM  TMED  TMAX  TMIN  \\\n",
       "16443  15480  12.8  44.213889  28.645556  12/27/2016   2.1   5.6  -0.6   \n",
       "16444  15480  12.8  44.213889  28.645556  12/28/2016   0.7   2.1  -1.5   \n",
       "16445  15480  12.8  44.213889  28.645556  12/29/2016   1.6   2.7   0.5   \n",
       "16446  15480  12.8  44.213889  28.645556  12/30/2016   0.4   1.5  -0.5   \n",
       "16447  15480  12.8  44.213889  28.645556  12/31/2016  -1.5   1.5  -2.8   \n",
       "\n",
       "       an inregistrare  \n",
       "16443             2016  \n",
       "16444             2016  \n",
       "16445             2016  \n",
       "16446             2016  \n",
       "16447             2016  "
      ]
     },
     "execution_count": 29,
     "metadata": {},
     "output_type": "execute_result"
    }
   ],
   "source": [
    "df_combined.tail()"
   ]
  },
  {
   "cell_type": "code",
   "execution_count": 31,
   "id": "defbdca2-8eda-4b15-827f-0df9201859d7",
   "metadata": {},
   "outputs": [
    {
     "name": "stdout",
     "output_type": "stream",
     "text": [
      "<class 'pandas.core.frame.DataFrame'>\n",
      "RangeIndex: 16448 entries, 0 to 16447\n",
      "Data columns (total 9 columns):\n",
      " #   Column           Non-Null Count  Dtype  \n",
      "---  ------           --------------  -----  \n",
      " 0   CODST            16448 non-null  int64  \n",
      " 1   ALT              16448 non-null  float64\n",
      " 2   LAT              16448 non-null  float64\n",
      " 3   LON              16448 non-null  float64\n",
      " 4   DATCLIM          16448 non-null  object \n",
      " 5   TMED             16448 non-null  float64\n",
      " 6   TMAX             16448 non-null  float64\n",
      " 7   TMIN             16448 non-null  float64\n",
      " 8   an inregistrare  16448 non-null  int64  \n",
      "dtypes: float64(6), int64(2), object(1)\n",
      "memory usage: 1.1+ MB\n"
     ]
    }
   ],
   "source": [
    "df_combined.info()"
   ]
  },
  {
   "cell_type": "code",
   "execution_count": 33,
   "id": "5768ceab-21aa-4c59-ad79-75b97f9bb42b",
   "metadata": {},
   "outputs": [],
   "source": [
    "df_combined.to_csv('date_meteo.csv', index=False)"
   ]
  },
  {
   "cell_type": "code",
   "execution_count": 39,
   "id": "a3ab9773-b38c-4d15-9a7f-fd71a0db7187",
   "metadata": {},
   "outputs": [],
   "source": [
    "#Calcul medie la fiecare statie pentru fiecare an\n",
    "medii_statii=df_combined.groupby(['CODST', 'an inregistrare'])['TMED'].mean().reset_index()\n",
    "medii=medii_statii.pivot(index='CODST', columns='an inregistrare', values='TMED')\n",
    "medii['Diferenta temp'] = medii[2016]-medii[1961]\n",
    "\n",
    "#Export date\n",
    "medii.reset_index().to_csv('comparatie_temperaturi_1961_2016.csv', index=False)"
   ]
  },
  {
   "cell_type": "code",
   "execution_count": null,
   "id": "ec155ce1-864e-4a04-b37c-13321f9c836a",
   "metadata": {},
   "outputs": [],
   "source": []
  }
 ],
 "metadata": {
  "kernelspec": {
   "display_name": "Python [conda env:base] *",
   "language": "python",
   "name": "conda-base-py"
  },
  "language_info": {
   "codemirror_mode": {
    "name": "ipython",
    "version": 3
   },
   "file_extension": ".py",
   "mimetype": "text/x-python",
   "name": "python",
   "nbconvert_exporter": "python",
   "pygments_lexer": "ipython3",
   "version": "3.12.7"
  }
 },
 "nbformat": 4,
 "nbformat_minor": 5
}
